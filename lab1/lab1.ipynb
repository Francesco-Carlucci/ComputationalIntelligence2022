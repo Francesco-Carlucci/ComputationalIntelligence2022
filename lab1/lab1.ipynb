{
 "cells": [
  {
   "cell_type": "code",
   "execution_count": 1,
   "id": "ab4dff7e",
   "metadata": {},
   "outputs": [],
   "source": [
    "import random\n",
    "import logging\n",
    "\n",
    "from gx_utils import *\n",
    "\n",
    "\n",
    "logging.basicConfig(format=\"%(message)s\", level=logging.INFO)"
   ]
  },
  {
   "cell_type": "code",
   "execution_count": 2,
   "id": "99bfe003",
   "metadata": {},
   "outputs": [],
   "source": [
    "def problem(N, seed=None):\n",
    "    random.seed(seed)\n",
    "    return [\n",
    "        list(set(random.randint(0, N - 1) for n in range(random.randint(N // 5, N // 2))))\n",
    "        for n in range(random.randint(N, N * 5))\n",
    "    ]"
   ]
  },
  {
   "cell_type": "code",
   "execution_count": 13,
   "id": "ae6f6559",
   "metadata": {},
   "outputs": [],
   "source": [
    "from queue import PriorityQueue\n",
    "\n",
    "def tree_search2(lists, goal_test, slzCost, priority_function,states):\n",
    "    frontier = PriorityQueue()\n",
    "\n",
    "    state=(set(),(), lists) #initial state\n",
    "    \n",
    "    n=0\n",
    "    while state is not None:\n",
    "        \n",
    "        selected,solution,available=state\n",
    "        \n",
    "        if goal_test(selected):\n",
    "            logging.info(f\"Found a solution in {n:,} steps: {solution}\")\n",
    "            break\n",
    "        n+=1\n",
    "        \n",
    "        for i,newlist in enumerate(available):\n",
    "            if not set(newlist) < selected:\n",
    "                \n",
    "                newState=(selected | set(newlist),solution+(newlist,),available[i+1 :])\n",
    "                \n",
    "                frontier.put((priority_function(selected,solution+(newlist,)),newState))\n",
    "        \n",
    "        if frontier:\n",
    "            state = frontier.get()[1]\n",
    "        else:\n",
    "            state = None\n",
    "        \n",
    "    return solution"
   ]
  },
  {
   "cell_type": "code",
   "execution_count": 17,
   "id": "283bf4d0",
   "metadata": {
    "scrolled": true
   },
   "outputs": [
    {
     "name": "stderr",
     "output_type": "stream",
     "text": [
      "Found a solution in 12 steps: ((3,), (0, 1), (2, 4))\n",
      "Found a solution in 12 steps: ((3,), (0, 1), (2, 4))\n",
      "Found a solution in 39 steps: ((0, 9, 3), (8, 2, 7), (1, 4, 5, 6))\n",
      "Found a solution in 39 steps: ((0, 9, 3), (8, 2, 7), (1, 4, 5, 6))\n",
      "Found a solution in 1,167 steps: ((8, 4, 7), (16, 9, 19, 6), (1, 3, 13, 14), (0, 5, 11, 16, 17), (2, 6, 8, 10, 12, 15, 18))\n"
     ]
    },
    {
     "name": "stdout",
     "output_type": "stream",
     "text": [
      "Solution for N=5: w=5 (bloat=0%)\n",
      "Dijkstra Solution for N=5: w=5 (bloat=0%)\n",
      "Solution for N=10: w=10 (bloat=0%)\n",
      "Dijkstra Solution for N=10: w=10 (bloat=0%)\n",
      "Solution for N=20: w=23 (bloat=15%)\n"
     ]
    },
    {
     "name": "stderr",
     "output_type": "stream",
     "text": [
      "Found a solution in 1,604 steps: ((8, 4, 7), (16, 9, 19, 6), (1, 3, 13, 14), (0, 5, 11, 16, 17), (2, 6, 8, 10, 12, 15, 18))\n"
     ]
    },
    {
     "name": "stdout",
     "output_type": "stream",
     "text": [
      "Dijkstra Solution for N=20: w=23 (bloat=15%)\n"
     ]
    }
   ],
   "source": [
    "def goal_test_gen(N):\n",
    "    def goal_test(selected):\n",
    "        return selected==set(range(N))\n",
    "        \n",
    "    return goal_test\n",
    "\n",
    "def priority_function(selected,solution):\n",
    "    newlist=solution[-1]\n",
    "    return len(set(newlist)&selected),-len(set(newlist)|selected)\n",
    "\n",
    "def priority_dijkstra(_,solution):\n",
    "    cnt = Counter()\n",
    "    cnt.update(sum((e for e in solution), start=()))\n",
    "    return sum(cnt[c] - 1 for c in cnt if cnt[c] > 1), -sum(cnt[c] == 1 for c in cnt)\n",
    "\n",
    "for N in [5, 10, 20]:\n",
    "    lists = sorted(problem(N, seed=42), key=lambda l: len(l))\n",
    "    filteredLists=sorted(list(list(_) for _ in set(tuple(l) for l in lists)), key=lambda l:len(l))\n",
    "    \n",
    "    states=dict()\n",
    "\n",
    "    tuples=tuple(tuple(sublist) for sublist in filteredLists)\n",
    "    \n",
    "    solution=tree_search2(tuples, goal_test_gen(N), slzCost, lambda a,b: priority_function(a,b),states)\n",
    "    print(f\"Solution for N={N}: w={sum(len(_) for _ in solution)} (bloat={(sum(len(_) for _ in solution)-N)/N*100:.0f}%)\")\n",
    "    \n",
    "    solution2=tree_search2(tuples, goal_test_gen(N), slzCost, lambda a,b: priority_dijkstra(a,b),states)\n",
    "    print(f\"Dijkstra Solution for N={N}: w={sum(len(_) for _ in solution2)} (bloat={(sum(len(_) for _ in solution2)-N)/N*100:.0f}%)\")\n",
    "    "
   ]
  },
  {
   "cell_type": "markdown",
   "id": "379b0510",
   "metadata": {},
   "source": [
    "# Greedy\n",
    "basic greedy algorithm by professor Squillero"
   ]
  },
  {
   "cell_type": "code",
   "execution_count": 21,
   "id": "27f5c1ab",
   "metadata": {},
   "outputs": [],
   "source": [
    "def greedy(N, all_lists):\n",
    "    \"\"\"Vanilla greedy algorithm\"\"\"\n",
    "\n",
    "    goal = set(range(N))\n",
    "    covered = set()\n",
    "    solution = list()\n",
    "    all_lists = sorted(all_lists, key=lambda l: len(l))\n",
    "    while goal != covered:\n",
    "        x = all_lists.pop(0)\n",
    "        if not set(x) < covered:\n",
    "            solution.append(x)\n",
    "            covered |= set(x)\n",
    "    logging.debug(f\"{solution}\")\n",
    "    return solution"
   ]
  },
  {
   "cell_type": "code",
   "execution_count": 25,
   "id": "a8b2bc24",
   "metadata": {},
   "outputs": [
    {
     "name": "stderr",
     "output_type": "stream",
     "text": [
      " Greedy solution for N=5: w=5 (bloat=0%)\n",
      " Greedy solution for N=10: w=13 (bloat=30%)\n",
      " Greedy solution for N=20: w=46 (bloat=130%)\n",
      " Greedy solution for N=100: w=332 (bloat=232%)\n",
      " Greedy solution for N=500: w=2,162 (bloat=332%)\n",
      " Greedy solution for N=1,000: w=4,652 (bloat=365%)\n"
     ]
    }
   ],
   "source": [
    "    \n",
    "for N in [5, 10, 20,100,500,1000]:\n",
    "    solution = greedy(N, problem(N, seed=42))\n",
    "    logging.info(\n",
    "        f\" Greedy solution for N={N:,}: \"\n",
    "        + f\"w={sum(len(_) for _ in solution):,} \"\n",
    "        + f\"(bloat={(sum(len(_) for _ in solution)-N)/N*100:.0f}%)\" \n",
    "    )"
   ]
  },
  {
   "cell_type": "code",
   "execution_count": null,
   "id": "476a96b0",
   "metadata": {},
   "outputs": [],
   "source": []
  }
 ],
 "metadata": {
  "kernelspec": {
   "display_name": "Python 3 (ipykernel)",
   "language": "python",
   "name": "python3"
  },
  "language_info": {
   "codemirror_mode": {
    "name": "ipython",
    "version": 3
   },
   "file_extension": ".py",
   "mimetype": "text/x-python",
   "name": "python",
   "nbconvert_exporter": "python",
   "pygments_lexer": "ipython3",
   "version": "3.9.12"
  }
 },
 "nbformat": 4,
 "nbformat_minor": 5
}
