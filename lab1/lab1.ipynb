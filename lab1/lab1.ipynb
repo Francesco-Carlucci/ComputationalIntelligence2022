{
 "cells": [
  {
   "cell_type": "code",
   "execution_count": 3,
   "id": "ab4dff7e",
   "metadata": {},
   "outputs": [],
   "source": [
    "import random\n",
    "from collections import deque\n",
    "import networkx as nx\n",
    "import matplotlib.pyplot as plt\n",
    "from networkx.drawing.nx_pydot import graphviz_layout\n",
    "import logging\n",
    "\n",
    "from gx_utils import *\n",
    "\n",
    "\n",
    "logging.basicConfig(format=\"%(message)s\", level=logging.INFO)"
   ]
  },
  {
   "cell_type": "code",
   "execution_count": 4,
   "id": "99bfe003",
   "metadata": {},
   "outputs": [],
   "source": [
    "def problem(N, seed=None):\n",
    "    random.seed(seed)\n",
    "    return [\n",
    "        list(set(random.randint(0, N - 1) for n in range(random.randint(N // 5, N // 2))))\n",
    "        for n in range(random.randint(N, N * 5))\n",
    "    ]"
   ]
  },
  {
   "cell_type": "code",
   "execution_count": 5,
   "id": "c4856f4a",
   "metadata": {},
   "outputs": [],
   "source": [
    "def tree_search(lists, goal_test, strategy=\"bf\", bound=False):\n",
    "    frontier = deque()\n",
    "\n",
    "    frontier.append(([], lists))\n",
    "    n=0\n",
    "    while frontier:\n",
    "        n+=1\n",
    "        \n",
    "        if strategy == \"bf\":\n",
    "            state = frontier.popleft()\n",
    "        elif strategy == \"df\":\n",
    "            state = frontier.pop()\n",
    "        \n",
    "        selected,available=state\n",
    "        \n",
    "        if goal_test(selected):\n",
    "            logging.info(f\"Found a solution in {n:,} steps: {selected}\")\n",
    "            #print(f\"Found a solution in {n:,} steps: {selected}\")\n",
    "            solution=selected\n",
    "            break\n",
    "        \n",
    "        for i,newlist in enumerate(available):\n",
    "            \n",
    "            newState=(selected+[newlist],available[i+1 :])\n",
    "            frontier.append(newState)\n",
    "        \n",
    "    return solution"
   ]
  },
  {
   "cell_type": "code",
   "execution_count": 12,
   "id": "ae6f6559",
   "metadata": {},
   "outputs": [],
   "source": [
    "from queue import PriorityQueue\n",
    "\n",
    "def tree_search2(lists, goal_test,slzCost, priority_function,states):\n",
    "    frontier = PriorityQueue()\n",
    "\n",
    "    #frontier.push(([], lists))\n",
    "    state=((), lists) #initial state\n",
    "    solution=lists\n",
    "    n=0\n",
    "    while state is not None:\n",
    "        n+=1\n",
    "        \n",
    "        selected,available=state\n",
    "        \n",
    "        if goal_test(selected):\n",
    "            logging.info(f\"Found a solution in {n:,} steps: {selected}\")\n",
    "            \n",
    "            if  slzCost(selected)<slzCost(solution):\n",
    "                solution=selected\n",
    "            break\n",
    "        \n",
    "        for i,newlist in enumerate(available):\n",
    "            if not set(newlist) < set([item for sublist in selected for item in sublist]):\n",
    "                \n",
    "                newState=(selected+(newlist,),available[i+1 :])\n",
    "                states[newState]=slzCost(selected)\n",
    "                \n",
    "                frontier.put((priority_function(newState),newState))\n",
    "        \n",
    "        if frontier:\n",
    "            state = frontier.get()[1]\n",
    "        else:\n",
    "            state = None\n",
    "        \n",
    "    return solution"
   ]
  },
  {
   "cell_type": "code",
   "execution_count": 16,
   "id": "283bf4d0",
   "metadata": {
    "scrolled": true
   },
   "outputs": [
    {
     "name": "stderr",
     "output_type": "stream",
     "text": [
      "Found a solution in 23 steps: ((0,), (1, 3), (2, 4))\n",
      "Found a solution in 102 steps: ((1, 3, 6), (8, 2, 7), (0, 9, 4, 5))\n",
      "Found a solution in 446 steps: ((16, 9, 19, 6), (0, 1, 2, 7), (4, 7, 11, 12, 15, 16, 18), (0, 3, 5, 8, 9, 10, 13, 14, 17))\n"
     ]
    },
    {
     "name": "stdout",
     "output_type": "stream",
     "text": [
      "Solution for N=5: w=5 (bloat=0%)\n",
      "Solution for N=10: w=10 (bloat=0%)\n",
      "Solution for N=20: w=24 (bloat=20%)\n"
     ]
    }
   ],
   "source": [
    "def goal_test_gen(N):\n",
    "    def goal_test(slz):\n",
    "        #print(slz)\n",
    "        if set([item for sublist in slz for item in sublist])==set(range(N)):\n",
    "            return True\n",
    "        else:\n",
    "            return False\n",
    "    return goal_test\n",
    "\n",
    "def slzCost(solution):\n",
    "    return (sum(len(_) for _ in solution)-N)/N\n",
    "    #return len([item for sublist in state[0] for item in sublist])\n",
    "\n",
    "def priority_function(newState):\n",
    "    selected=newState[0][:-1]\n",
    "    newlist=newState[0][-1]\n",
    "    return len(newlist)-3*len(set(newlist)-set([item for sublist in selected for item in sublist]))\n",
    "    \n",
    "\n",
    "for N in [5, 10, 20]:\n",
    "    lists = sorted(problem(N, seed=42), key=lambda l: len(l))\n",
    "    filteredLists=sorted(list(list(_) for _ in set(tuple(l) for l in lists)), key=lambda l:len(l)) #to better see the problem\n",
    "    \n",
    "    #solution=tree_search(lists,goal_test_gen(N)) #breadth first search\n",
    "    \n",
    "    states=dict()\n",
    "\n",
    "    tuples=tuple(tuple(sublist) for sublist in lists)\n",
    "    #solution=tree_search2(tuples,goal_test_gen(N),slzCost,lambda l:len(states),states) #second breadth first\n",
    "    #print(f\"Solution for N={N}: w={sum(len(_) for _ in solution)} (bloat={(sum(len(_) for _ in solution)-N)/N*100:.0f}%)\")\n",
    "    \n",
    "    solution2=tree_search2(tuples,goal_test_gen(N),slzCost,lambda s: priority_function(s)+states[s],states)\n",
    "    print(f\"Solution for N={N}: w={sum(len(_) for _ in solution2)} (bloat={(sum(len(_) for _ in solution2)-N)/N*100:.0f}%)\")\n",
    "    \n",
    "    #solution2=tree_search2(tuples,goal_test_gen(N),slzCost,lambda s: priority_function(s),states)\n",
    "    #print(f\"Greedy Solution for N={N}: w={sum(len(_) for _ in solution2)} (bloat={(sum(len(_) for _ in solution2)-N)/N*100:.0f}%)\")\n"
   ]
  },
  {
   "cell_type": "code",
   "execution_count": null,
   "id": "31a051f0",
   "metadata": {},
   "outputs": [],
   "source": []
  }
 ],
 "metadata": {
  "kernelspec": {
   "display_name": "Python 3 (ipykernel)",
   "language": "python",
   "name": "python3"
  },
  "language_info": {
   "codemirror_mode": {
    "name": "ipython",
    "version": 3
   },
   "file_extension": ".py",
   "mimetype": "text/x-python",
   "name": "python",
   "nbconvert_exporter": "python",
   "pygments_lexer": "ipython3",
   "version": "3.10.6"
  }
 },
 "nbformat": 4,
 "nbformat_minor": 5
}
