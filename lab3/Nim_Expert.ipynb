{
 "cells": [
  {
   "cell_type": "markdown",
   "metadata": {},
   "source": [
    "## Imports & Global Vars"
   ]
  },
  {
   "cell_type": "code",
   "execution_count": 1,
   "metadata": {},
   "outputs": [],
   "source": [
    "from Nim import *\n",
    "\n",
    "nim_rows = 3"
   ]
  },
  {
   "cell_type": "markdown",
   "metadata": {},
   "source": [
    "## Service Functions"
   ]
  },
  {
   "cell_type": "code",
   "execution_count": 2,
   "metadata": {},
   "outputs": [],
   "source": [
    "def nimSum(rows):\n",
    "    sum=rows[0]\n",
    "    for i in rows[1:]:\n",
    "        sum^=i\n",
    "    return sum\n",
    "\n",
    "def checkMisere(rows):\n",
    "    cnt=0\n",
    "    nonOneRow=-1\n",
    "    for i,row in enumerate(rows):\n",
    "        if row>=2:\n",
    "            cnt+=1\n",
    "            nonOneRow=i\n",
    "        if cnt==2:\n",
    "            return -1\n",
    "    return nonOneRow\n",
    "\n",
    "def human_play(game) -> Nimply:\n",
    "    while 1:\n",
    "        str=input(\"Enter row index and number of elements to remove: \")\n",
    "        rowIdx, n = str.split(\" \")\n",
    "        if int(rowIdx) >= len(game.rows):\n",
    "            print(\"Invalid row!\")\n",
    "        elif int(n) > game.rows[int(rowIdx)]:\n",
    "            print(\"Invalid number, convert to maximum!\")\n",
    "            n = game.rows[int(rowIdx)]\n",
    "            return Nimply(int(rowIdx), int(n))\n",
    "        else:\n",
    "            return Nimply(int(rowIdx),int(n))"
   ]
  },
  {
   "cell_type": "markdown",
   "metadata": {},
   "source": [
    "## Random Policy"
   ]
  },
  {
   "cell_type": "code",
   "execution_count": 3,
   "metadata": {},
   "outputs": [],
   "source": [
    "def pure_random(state: Nim) -> Nimply:\n",
    "    row = random.choice([r for r, c in enumerate(state.rows) if c > 0])\n",
    "    num_objects = random.randint(1, state.rows[row])\n",
    "    return Nimply(row, num_objects)"
   ]
  },
  {
   "cell_type": "markdown",
   "metadata": {},
   "source": [
    "## Expert Policy"
   ]
  },
  {
   "cell_type": "code",
   "execution_count": 4,
   "metadata": {},
   "outputs": [],
   "source": [
    "def expert(game):\n",
    "    rows=game.rows\n",
    "    totNimSum=nimSum(rows)\n",
    "    if(totNimSum!=0):\n",
    "        OneRow=checkMisere(rows)\n",
    "        if OneRow!=-1:\n",
    "            if len([_ for _ in rows if _!=0])%2==0:\n",
    "                return Nimply(OneRow,rows[OneRow])\n",
    "            else:\n",
    "                return Nimply(OneRow, rows[OneRow]-1)\n",
    "        for i,row in enumerate(rows):\n",
    "            lineNimSum=nimSum([totNimSum,row])\n",
    "            if(lineNimSum<row):\n",
    "                return Nimply(i,row-lineNimSum)\n",
    "    return pure_random(game)"
   ]
  },
  {
   "cell_type": "markdown",
   "metadata": {},
   "source": [
    "## Play"
   ]
  },
  {
   "cell_type": "code",
   "execution_count": 7,
   "metadata": {},
   "outputs": [
    {
     "name": "stdout",
     "output_type": "stream",
     "text": [
      "random vs random:  0.512\n",
      "dumb vs random:  0.214\n",
      "expert vs random:  1.0\n",
      "expert vs expert:  1.0\n"
     ]
    }
   ],
   "source": [
    "game = Nim(nim_rows)\n",
    "\n",
    "print(\"random vs random: \",evaluate(5,pure_random,0,1000))  #random vs random\n",
    "print(\"dumb vs random: \",evaluate(5,dumb,0,1000))         #dumb vs random\n",
    "print(\"expert vs random: \",evaluate(5,expert,0,1000))       #expert vs random\n",
    "print(\"expert vs expert: \",evaluate(5,expert,1,1000))       #expert vs expert\n",
    "\n",
    "sandbox(game, expert)"
   ]
  },
  {
   "cell_type": "code",
   "execution_count": null,
   "metadata": {},
   "outputs": [],
   "source": []
  }
 ],
 "metadata": {
  "kernelspec": {
   "display_name": "Python 3 (ipykernel)",
   "language": "python",
   "name": "python3"
  },
  "language_info": {
   "codemirror_mode": {
    "name": "ipython",
    "version": 3
   },
   "file_extension": ".py",
   "mimetype": "text/x-python",
   "name": "python",
   "nbconvert_exporter": "python",
   "pygments_lexer": "ipython3",
   "version": "3.9.12"
  },
  "vscode": {
   "interpreter": {
    "hash": "cf44e1cfd43590f45f0e2b5c28e0f46babf55befe4ad1bacdd60a06d73372734"
   }
  }
 },
 "nbformat": 4,
 "nbformat_minor": 2
}
