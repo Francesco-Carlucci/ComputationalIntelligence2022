{
 "cells": [
  {
   "attachments": {},
   "cell_type": "markdown",
   "metadata": {},
   "source": [
    "## Imports & Global Vars"
   ]
  },
  {
   "cell_type": "code",
   "execution_count": null,
   "metadata": {},
   "outputs": [],
   "source": [
    "from Nim import *\n",
    "\n",
    "cnt = 0\n",
    "\n",
    "nim_rows = 7\n",
    "stop_lvl=6\n",
    "pruning_factor=5\n",
    "eval_amount=50"
   ]
  },
  {
   "attachments": {},
   "cell_type": "markdown",
   "metadata": {},
   "source": [
    "## MinMax"
   ]
  },
  {
   "cell_type": "code",
   "execution_count": null,
   "metadata": {},
   "outputs": [],
   "source": [
    "def minmax(state: Nim, lvl) -> Nimply:\n",
    "    possible = [Nimply(r, o) for r, c in enumerate(state.rows) for o in range(1,c+1)]  #(c+1,0,-1)\n",
    "    possible.reverse()\n",
    "    if state.endTest():\n",
    "        return None, 1\n",
    "    if lvl>stop_lvl:   #level stop\n",
    "        possible=random.sample(possible, k=max(int(len(possible)/pruning_factor),1))\n",
    "        #return None,0\n",
    "    evaluations = list()\n",
    "    for ply in possible:\n",
    "        new_state = Nim(0, state.k).fromRows(state.rows)\n",
    "        new_state.nimming(ply)\n",
    "\n",
    "        _, val = minmax(new_state,lvl+1)\n",
    "        if -val==1:\n",
    "            return ply,-val\n",
    "        evaluations.append((ply, -val))\n",
    "    ply=max(evaluations, key=lambda k: k[1])\n",
    "    return ply\n",
    "\n",
    "class MinmaxAgent:\n",
    "    def __init__(self):\n",
    "        self.lvl = 0\n",
    "    \n",
    "    def play(self, game):\n",
    "        return minmax(game, self.lvl)"
   ]
  },
  {
   "attachments": {},
   "cell_type": "markdown",
   "metadata": {},
   "source": [
    "## Play"
   ]
  },
  {
   "cell_type": "code",
   "execution_count": null,
   "metadata": {},
   "outputs": [],
   "source": [
    "game = Nim(nim_rows)\n",
    "\n",
    "ma = MinmaxAgent()\n",
    "sandbox(game, ma.play(game))"
   ]
  }
 ],
 "metadata": {
  "kernelspec": {
   "display_name": "Python 3",
   "language": "python",
   "name": "python3"
  },
  "language_info": {
   "codemirror_mode": {
    "name": "ipython",
    "version": 3
   },
   "file_extension": ".py",
   "mimetype": "text/x-python",
   "name": "python",
   "nbconvert_exporter": "python",
   "pygments_lexer": "ipython3",
   "version": "3.10.6"
  },
  "orig_nbformat": 4,
  "vscode": {
   "interpreter": {
    "hash": "cf44e1cfd43590f45f0e2b5c28e0f46babf55befe4ad1bacdd60a06d73372734"
   }
  }
 },
 "nbformat": 4,
 "nbformat_minor": 2
}
