{
 "cells": [
  {
   "attachments": {},
   "cell_type": "markdown",
   "metadata": {},
   "source": [
    "## Imports & Global Vars"
   ]
  },
  {
   "cell_type": "code",
   "execution_count": null,
   "metadata": {},
   "outputs": [],
   "source": [
    "import numpy as np\n",
    "from Nim import *\n",
    "\n",
    "nrows = 5\n",
    "nepochs = 50000"
   ]
  },
  {
   "attachments": {},
   "cell_type": "markdown",
   "metadata": {},
   "source": [
    "## Reinforcement Learning Agent"
   ]
  },
  {
   "cell_type": "code",
   "execution_count": null,
   "metadata": {},
   "outputs": [],
   "source": [
    "class Agent(object):\n",
    "    def __init__(self, states, alpha=0.15, random_factor=0.2):  # 80% explore, 20% exploit\n",
    "        self.state_history = []  # state, reward\n",
    "        self.alpha = alpha\n",
    "        self.random_factor = random_factor\n",
    "        self.G = {}\n",
    "\n",
    "    def choose_action(self, state):\n",
    "        maxG = -10e15\n",
    "        next_move = None\n",
    "        randomN = np.random.random()\n",
    "        allowedMoves = [Nimply(r, o) for r, c in enumerate(state.rows) for o in range(1, c + 1)]\n",
    "        if randomN < self.random_factor:\n",
    "            # if random number below random factor, choose random action\n",
    "            next_move = random.choice(allowedMoves)\n",
    "        else:\n",
    "            # if exploiting, gather all possible actions and choose one with the highest G (reward)\n",
    "            uncharted = []\n",
    "            for action in allowedMoves:\n",
    "                l = len(state.rows)\n",
    "                new_state = Nim(l).fromRows(state.rows)\n",
    "                new_state.nimming(action)\n",
    "                if new_state.rows not in self.G:\n",
    "                    uncharted.append(action)\n",
    "                elif self.G[new_state.rows] >= maxG:\n",
    "                    maxG = self.G[new_state.rows]\n",
    "                    next_move = action\n",
    "            if len(uncharted) != 0:\n",
    "                next_move = random.choice(uncharted)\n",
    "        return next_move\n",
    "\n",
    "    def update_state_history(self, state, reward):\n",
    "        self.state_history.append((state, reward))\n",
    "\n",
    "    def learn(self):\n",
    "        target = 0\n",
    "\n",
    "        for prev, reward in reversed(self.state_history):\n",
    "            if prev not in self.G:\n",
    "                self.G[prev] = np.random.uniform(low=1.0, high=0.1)\n",
    "            self.G[prev] = self.G[prev] + self.alpha * (target - self.G[prev])\n",
    "            target += reward\n",
    "\n",
    "        self.state_history = []\n",
    "\n",
    "        self.random_factor -= 10e-5  # decrease random factor each episode of play"
   ]
  },
  {
   "cell_type": "code",
   "execution_count": null,
   "metadata": {},
   "outputs": [],
   "source": [
    "def evaluate(gamesize: int, robot: Agent) -> float:\n",
    "    win_count = 0\n",
    "    neval = 100\n",
    "    robot.random_factor = 0\n",
    "    turn = 1\n",
    "    for _ in range(neval):\n",
    "        game = Nim(gamesize)\n",
    "        while not game.endTest():\n",
    "            turn = 1 - turn\n",
    "            if not turn:\n",
    "                game.nimming(robot.choose_action(game))\n",
    "            else:\n",
    "                game.nimming(pure_random(game))\n",
    "        if turn:\n",
    "            win_count += 1\n",
    "    return win_count/neval"
   ]
  },
  {
   "attachments": {},
   "cell_type": "markdown",
   "metadata": {},
   "source": [
    "## Training"
   ]
  },
  {
   "cell_type": "code",
   "execution_count": null,
   "metadata": {},
   "outputs": [],
   "source": [
    "game = Nim(nrows)\n",
    "robot = Agent(game, alpha=0.1, random_factor=0.4)\n",
    "\n",
    "for i in range(nepochs):\n",
    "    while not game.endTest():\n",
    "        action = robot.choose_action(game)\n",
    "        game.nimming(action)\n",
    "        if not game.endTest():\n",
    "            game.nimming(expert(game))\n",
    "        reward = game.get_reward()\n",
    "        robot.update_state_history(game, reward)\n",
    "    robot.learn()\n",
    "    game = Nim(nrows)\n",
    "    \n",
    "print(evaluate(nrows, robot))"
   ]
  },
  {
   "attachments": {},
   "cell_type": "markdown",
   "metadata": {},
   "source": [
    "## Play"
   ]
  },
  {
   "cell_type": "code",
   "execution_count": null,
   "metadata": {},
   "outputs": [],
   "source": [
    "game = Nim(nrows)\n",
    "\n",
    "sandbox(game, robot)"
   ]
  }
 ],
 "metadata": {
  "kernelspec": {
   "display_name": "Python 3",
   "language": "python",
   "name": "python3"
  },
  "language_info": {
   "codemirror_mode": {
    "name": "ipython",
    "version": 3
   },
   "file_extension": ".py",
   "mimetype": "text/x-python",
   "name": "python",
   "nbconvert_exporter": "python",
   "pygments_lexer": "ipython3",
   "version": "3.10.6"
  },
  "orig_nbformat": 4,
  "vscode": {
   "interpreter": {
    "hash": "cf44e1cfd43590f45f0e2b5c28e0f46babf55befe4ad1bacdd60a06d73372734"
   }
  }
 },
 "nbformat": 4,
 "nbformat_minor": 2
}
