{
 "cells": [
  {
   "cell_type": "markdown",
   "metadata": {},
   "source": [
    "## Imports & Global Vars"
   ]
  },
  {
   "cell_type": "code",
   "execution_count": 1,
   "metadata": {},
   "outputs": [],
   "source": [
    "from Nim import *\n",
    "\n",
    "Gene = namedtuple(\"Gene\", [\"condition\",\"action\",\"place\"])\n",
    "Individual = namedtuple(\"Individual\", [\"genome\", \"fitness\"])\n",
    "\n",
    "nim_rows = 5\n",
    "eval_amount = 1000\n",
    "genome_size = 3\n",
    "population_size = 20\n",
    "offspring_size = 50\n",
    "generations = 10\n",
    "mutation_rate = 0.5"
   ]
  },
  {
   "cell_type": "markdown",
   "metadata": {},
   "source": [
    "## Conditions"
   ]
  },
  {
   "cell_type": "code",
   "execution_count": 2,
   "metadata": {},
   "outputs": [],
   "source": [
    "def even_elems_if(state: Nim) -> bool:\n",
    "    return sum(state.rows)%2 == 0\n",
    "\n",
    "def odd_elems_if(state: Nim) -> bool:\n",
    "    return sum(state.rows)%2 != 0\n",
    "\n",
    "def even_stacks_if(state: Nim) -> bool:\n",
    "    return len(state.rows)%2 == 0\n",
    "\n",
    "def odd_stacks_if(state: Nim) -> bool:\n",
    "    return len(state.rows)%2 != 0\n",
    "\n",
    "def nimsum_if(state: Nim) -> bool:\n",
    "    return nimSum(state.rows)!=0 "
   ]
  },
  {
   "cell_type": "code",
   "execution_count": 3,
   "metadata": {},
   "outputs": [],
   "source": [
    "conditions = {\"even_elems\": even_elems_if, \"odd_elems\": odd_elems_if, \"even_stacks\": even_stacks_if, \"odd_stacks\": odd_stacks_if, \"nimsum\": nimsum_if}"
   ]
  },
  {
   "cell_type": "markdown",
   "metadata": {},
   "source": [
    "## Actions"
   ]
  },
  {
   "cell_type": "code",
   "execution_count": 4,
   "metadata": {},
   "outputs": [],
   "source": [
    "def all_get(state: Nim, row: int) -> Nimply:\n",
    "    num_objects = state.rows[row]\n",
    "    return Nimply(row, num_objects)\n",
    "\n",
    "def one_get(state: Nim, row: int) -> Nimply:\n",
    "    num_objects = 1\n",
    "    return Nimply(row, num_objects)\n",
    "\n",
    "def half_get(state: Nim, row: int) -> Nimply:\n",
    "    num_objects = max(1,state.rows[row]//2)\n",
    "    return Nimply(row, num_objects)\n",
    "\n",
    "def rand_get(state: Nim, row: int) -> Nimply:\n",
    "    #print(state,row)\n",
    "    num_objects = random.randint(1, state.rows[row])\n",
    "    return Nimply(row, num_objects)\n",
    "\n",
    "def nimsum_get(state: Nim, row: int) -> Nimply:\n",
    "    rows = state.rows\n",
    "    totNimSum=nimSum(rows)\n",
    "\n",
    "    if checkMisere(rows) != -1:\n",
    "        if len(rows) % 2 == 0:\n",
    "            return Nimply(row, rows[row])\n",
    "        elif rows[row] > 1:\n",
    "            return Nimply(row, rows[row]-1)\n",
    "\n",
    "    lineNimSum=nimSum([totNimSum, rows[row]])\n",
    "    if (lineNimSum < rows[row]):\n",
    "        return Nimply(row, rows[row] - lineNimSum)\n",
    "    ply = rand_get(state,row)\n",
    "    return ply"
   ]
  },
  {
   "cell_type": "code",
   "execution_count": 5,
   "metadata": {},
   "outputs": [],
   "source": [
    "actions = {\"all\": all_get, \"one\": one_get, \"half\": half_get, \"rand\": rand_get, \"nimsum\": nimsum_get}"
   ]
  },
  {
   "cell_type": "markdown",
   "metadata": {},
   "source": [
    "## Places"
   ]
  },
  {
   "cell_type": "code",
   "execution_count": 6,
   "metadata": {},
   "outputs": [],
   "source": [
    "def rand_place(state: Nim) -> int:\n",
    "    row = random.randrange(0,len(state.rows))\n",
    "    #print('rand place choose row: ', state, row)\n",
    "    return row\n",
    "\n",
    "def most_place(state: Nim) -> int:\n",
    "    row = state.rows.index(max(state.rows))\n",
    "    #print('most place choose row: ', state, row)\n",
    "    return row\n",
    "\n",
    "def least_place(state: Nim) -> int:\n",
    "    row = state.rows.index(min([c for r, c in enumerate(state.rows) if c > 0]))\n",
    "    return row\n",
    "\n",
    "def nimsum_place(state: Nim) -> int:\n",
    "    rows=state.rows\n",
    "    totNimSum=nimSum(rows)\n",
    "    if(totNimSum!=0):\n",
    "        nonOneRow=checkMisere(rows)\n",
    "        if nonOneRow!=-1:\n",
    "            return nonOneRow\n",
    "        for i,row in enumerate(rows):\n",
    "            lineNimSum=nimSum([totNimSum,row])\n",
    "            if(lineNimSum<row):\n",
    "                return i\n",
    "    return rand_place(state)"
   ]
  },
  {
   "cell_type": "code",
   "execution_count": 7,
   "metadata": {},
   "outputs": [],
   "source": [
    "places = {\"rand\": rand_place, \"most\": most_place, \"least\": least_place, \"nimsum\": nimsum_place}"
   ]
  },
  {
   "cell_type": "markdown",
   "metadata": {},
   "source": [
    "## Full Policy"
   ]
  },
  {
   "cell_type": "code",
   "execution_count": 8,
   "metadata": {},
   "outputs": [],
   "source": [
    "def ga_play(state: Nim, genome: list) -> Nimply:\n",
    "    for g in genome:\n",
    "        if (conditions[g[0]](state)):\n",
    "            move = actions[g[1]](state, places[g[2]](state))\n",
    "            return move\n",
    "    return lose_game()\n",
    "\n",
    "class EvolvedAgent:\n",
    "    def __init__(self, individual: Individual):\n",
    "        self.genome = individual.genome\n",
    "    def play(self, game):\n",
    "        return ga_play(game, self.genome)"
   ]
  },
  {
   "cell_type": "markdown",
   "metadata": {},
   "source": [
    "## Fitness"
   ]
  },
  {
   "cell_type": "code",
   "execution_count": 9,
   "metadata": {},
   "outputs": [],
   "source": [
    "def evaluate(genome: list) -> float:\n",
    "    win_count = 0\n",
    "    for _ in range(eval_amount):\n",
    "        game = Nim(random.randint(5,21))\n",
    "        turn=1\n",
    "        while not game.endTest():\n",
    "            turn = 1 - turn\n",
    "            if not turn:\n",
    "                game.nimming(ga_play(game,genome))\n",
    "            else:\n",
    "                game.nimming(pure_random(game))\n",
    "        if turn:\n",
    "            win_count += 1\n",
    "    return win_count/eval_amount"
   ]
  },
  {
   "cell_type": "markdown",
   "metadata": {},
   "source": [
    "## GA Functions"
   ]
  },
  {
   "cell_type": "code",
   "execution_count": 10,
   "metadata": {},
   "outputs": [],
   "source": [
    "import copy\n",
    "\n",
    "def generate_population(population_size):\n",
    "    population = list()\n",
    "    for _ in range(population_size):\n",
    "        genome = list()\n",
    "        for _ in range(genome_size):\n",
    "            gene = (random.choice(list(conditions.keys())), random.choice(list(actions.keys())), random.choice(list(places.keys())))\n",
    "            genome.append(gene)\n",
    "        population.append(Individual(genome, evaluate(genome)))\n",
    "    return population\n",
    "\n",
    "def mutation(indiv: Individual) -> Individual:\n",
    "    mutable = [conditions, actions, places]\n",
    "\n",
    "    mut_gene_idx = random.randrange(0, genome_size)\n",
    "    mut_attr_idx = random.randrange(0, 3)\n",
    "    attr = indiv.genome[mut_gene_idx][mut_attr_idx]\n",
    "\n",
    "    acceptable = list(mutable[mut_attr_idx].keys())\n",
    "    acceptable.remove(attr)\n",
    "    new_attr = random.choice(acceptable)\n",
    "    new_genome = copy.deepcopy(indiv.genome)\n",
    "    new_genome[mut_gene_idx]=indiv.genome[mut_gene_idx][:mut_attr_idx]+(new_attr,)+indiv.genome[mut_gene_idx][mut_attr_idx+1:]\n",
    "    fitness = evaluate(new_genome)\n",
    "    return Individual(new_genome,fitness)\n",
    "\n",
    "def cross_over(i1: Individual, i2: Individual) -> Individual:\n",
    "    cross_over_point = random.randrange(1, genome_size)\n",
    "    new_genome = list()\n",
    "    for i in range(genome_size):\n",
    "        if (i < cross_over_point):\n",
    "            new_genome.append(i1.genome[i])\n",
    "        else:\n",
    "            new_genome.append(i2.genome[i])\n",
    "    return Individual(new_genome, evaluate(new_genome))\n",
    "\n",
    "def tournament(population,tournament_size=2):\n",
    "    return max(random.choices(population, k=tournament_size), key=lambda i:i[1])\n",
    "\n",
    "def evolution() -> Individual:\n",
    "    population = generate_population(population_size)\n",
    "\n",
    "    for g in range(generations):\n",
    "        offspring = list()\n",
    "        for i in range(offspring_size):\n",
    "            if random.random() < mutation_rate:\n",
    "                p = tournament(population)\n",
    "                o = mutation(p)\n",
    "            else:\n",
    "                p1 = tournament(population)\n",
    "                p2 = tournament(population)\n",
    "                o = cross_over(p1, p2)\n",
    "            offspring.append(o)\n",
    "        population += offspring\n",
    "        population = sorted(population, key=lambda i: i[1], reverse=True)[:population_size]\n",
    "\n",
    "    solution = population[0]\n",
    "    return solution"
   ]
  },
  {
   "cell_type": "markdown",
   "metadata": {},
   "source": [
    "## Play"
   ]
  },
  {
   "cell_type": "code",
   "execution_count": null,
   "metadata": {},
   "outputs": [],
   "source": [
    "game = Nim(nim_rows)\n",
    "best_individual = evolution()\n",
    "print(best_individual)\n",
    "print(\"best individual performance (against random): \",evaluate(best_individual.genome))\n",
    "\n",
    "ea = EvolvedAgent(best_individual)\n",
    "sandbox(game, ea.play)"
   ]
  },
  {
   "cell_type": "code",
   "execution_count": null,
   "metadata": {},
   "outputs": [],
   "source": []
  }
 ],
 "metadata": {
  "kernelspec": {
   "display_name": "Python 3 (ipykernel)",
   "language": "python",
   "name": "python3"
  },
  "language_info": {
   "codemirror_mode": {
    "name": "ipython",
    "version": 3
   },
   "file_extension": ".py",
   "mimetype": "text/x-python",
   "name": "python",
   "nbconvert_exporter": "python",
   "pygments_lexer": "ipython3",
   "version": "3.9.12"
  },
  "vscode": {
   "interpreter": {
    "hash": "cf44e1cfd43590f45f0e2b5c28e0f46babf55befe4ad1bacdd60a06d73372734"
   }
  }
 },
 "nbformat": 4,
 "nbformat_minor": 2
}
