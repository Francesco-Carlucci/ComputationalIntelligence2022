{
 "cells": [
  {
   "cell_type": "code",
   "execution_count": 1,
   "id": "9eb08750",
   "metadata": {},
   "outputs": [],
   "source": [
    "import random\n",
    "import logging"
   ]
  },
  {
   "cell_type": "code",
   "execution_count": 2,
   "id": "48339fa1",
   "metadata": {},
   "outputs": [],
   "source": [
    "POPULATION_SIZE = 100\n",
    "OFFSPRING_SIZE = 40\n",
    "NUM_GENERATIONS = 1000"
   ]
  },
  {
   "cell_type": "code",
   "execution_count": 3,
   "id": "2f1d69f3",
   "metadata": {},
   "outputs": [],
   "source": [
    "def problem(N, seed=None):\n",
    "    random.seed(seed)\n",
    "    return [\n",
    "        list(set(random.randint(0, N - 1) for n in range(random.randint(N // 5, N // 2))))\n",
    "        for n in range(random.randint(N, N * 5))\n",
    "    ]"
   ]
  },
  {
   "cell_type": "code",
   "execution_count": 4,
   "id": "fb1264ca",
   "metadata": {},
   "outputs": [],
   "source": [
    "def isvalid(solution):\n",
    "    selected = set()\n",
    "    for _ in solution:\n",
    "        selected = selected | set(_)\n",
    "    return selected==set(range(N))\n",
    "\n",
    "#@profile\n",
    "def fitness(state):\n",
    "    solution = state[0]\n",
    "    selected = set()\n",
    "    for _ in solution:\n",
    "        selected=selected | set(_)\n",
    "    return len(selected),-(sum(len(_) for _ in solution) - N)\n",
    "\n",
    "def tournament(population,tournament_size=2):\n",
    "    return max(random.choices(population,k=tournament_size), key=lambda i:i[2])\n",
    "\n",
    "#@profile\n",
    "def mutation(state):\n",
    "    solution,available,_=state\n",
    "\n",
    "    removeIdx=random.randint(0,len(solution)-1) if len(solution)>0 else 0\n",
    "    addIdx=random.randint(0,len(available)-1) if len(available)>0 else 0\n",
    "\n",
    "    solution=solution[:removeIdx]+solution[removeIdx+1:]\n",
    "    if len(available)>0:\n",
    "        solution+=(available[addIdx],)\n",
    "    available=available[:addIdx]+available[addIdx+1:]+(solution[removeIdx],)\n",
    "    \n",
    "    f=fitness((solution,available))\n",
    "    return (solution,available,f)\n",
    "\n",
    "#@profile\n",
    "def crossover(p1,p2):\n",
    "    solution1, available, _ = p1\n",
    "    solution2, _, _ = p2\n",
    "    cut1=random.randint(0,len(solution1))\n",
    "    cut2 = random.randint(0, len(solution2))\n",
    "\n",
    "    solution = tuple(set((*solution1[: cut1], *solution2[cut2 :])))\n",
    "    newAvailable=tuple((set(solution1)|set(available))-set(solution))\n",
    "    f = fitness((solution, available))\n",
    "    return (solution, newAvailable,f)"
   ]
  },
  {
   "cell_type": "code",
   "execution_count": 8,
   "id": "e4432bf1",
   "metadata": {},
   "outputs": [],
   "source": [
    "def geneticAlgorithm():\n",
    "\n",
    "    lists = sorted(problem(N, seed=42), key=lambda l: len(l))\n",
    "    #remove duplicates\n",
    "    tuples = tuple(tuple(_) for _ in set(tuple(l) for l in lists))\n",
    "\n",
    "    population = list()\n",
    "    # generate initial population, random\n",
    "    for genome in [tuple(random.choices(tuples,k=random.randint(1,len(tuples)))) for _ in range(POPULATION_SIZE)]:\n",
    "        #selected=set()\n",
    "        #for _ in genome:\n",
    "        #    selected=selected | set(_)\n",
    "        available=tuple(set(tuples)-set(genome))\n",
    "        f=fitness((tuple(set(genome)), available))\n",
    "        population.append((tuple(set(genome)),available,f)) #eve add fitness  selected,\n",
    "\n",
    "    #population.append((tuples,tuple(),fitness((tuples,tuple()))))\n",
    "    #fitness_log = [(0, fitness(i)) for i in population]\n",
    "\n",
    "    for g in range(NUM_GENERATIONS):\n",
    "        offspring = list()\n",
    "        for i in range(OFFSPRING_SIZE):\n",
    "            if random.random() < 0.7:\n",
    "                p = tournament(population)\n",
    "                o = mutation(p)\n",
    "            else:\n",
    "                p1 = tournament(population)\n",
    "                p2 = tournament(population)\n",
    "                o = crossover(p1, p2)\n",
    "            #f = fitness(o)\n",
    "            #fitness_log.append((g + 1, f))\n",
    "            offspring.append(o)\n",
    "        population += offspring\n",
    "        # sort and select the fittest mu\n",
    "        population = sorted(population, key=lambda i: i[2], reverse=True)[:POPULATION_SIZE]\n",
    "        if(population[2]==N):\n",
    "            break\n",
    "    population=tuple(_ for _ in population if isvalid(_[0]))\n",
    "    solution=population[0][0]\n",
    "\n",
    "    print(f\"Solution for N={N}: w={sum(len(_) for _ in solution)} (bloat={(sum(len(_) for _ in solution) - N) / N * 100:.0f}%)\")\n"
   ]
  },
  {
   "cell_type": "code",
   "execution_count": 9,
   "id": "ec0bd73b",
   "metadata": {},
   "outputs": [
    {
     "name": "stdout",
     "output_type": "stream",
     "text": [
      "Solution for N=5: w=5 (bloat=0%)\n",
      "Solution for N=10: w=10 (bloat=0%)\n",
      "Solution for N=20: w=24 (bloat=20%)\n",
      "Solution for N=100: w=190 (bloat=90%)\n",
      "Solution for N=500: w=1464 (bloat=193%)\n",
      "Solution for N=1000: w=3457 (bloat=246%)\n"
     ]
    }
   ],
   "source": [
    "for N in [5, 10, 20, 100,500,1000]:\n",
    "    geneticAlgorithm()"
   ]
  },
  {
   "cell_type": "code",
   "execution_count": null,
   "id": "1f1588c1",
   "metadata": {},
   "outputs": [],
   "source": []
  }
 ],
 "metadata": {
  "kernelspec": {
   "display_name": "Python 3 (ipykernel)",
   "language": "python",
   "name": "python3"
  },
  "language_info": {
   "codemirror_mode": {
    "name": "ipython",
    "version": 3
   },
   "file_extension": ".py",
   "mimetype": "text/x-python",
   "name": "python",
   "nbconvert_exporter": "python",
   "pygments_lexer": "ipython3",
   "version": "3.9.12"
  }
 },
 "nbformat": 4,
 "nbformat_minor": 5
}
