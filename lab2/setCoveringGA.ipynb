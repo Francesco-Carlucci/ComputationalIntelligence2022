{
 "cells": [
  {
   "cell_type": "markdown",
   "id": "9ffb1973",
   "metadata": {},
   "source": [
    "# Lab2: Set Covering with Genetic Algorithms\n",
    "Here is the implementation of a basic genetic algotrithm for the set covering problem"
   ]
  },
  {
   "cell_type": "code",
   "execution_count": 23,
   "id": "430141ac",
   "metadata": {},
   "outputs": [],
   "source": [
    "import random\n",
    "import logging"
   ]
  },
  {
   "cell_type": "markdown",
   "id": "0bdde2eb",
   "metadata": {},
   "source": [
    "Here there are all tunable hyperparameters"
   ]
  },
  {
   "cell_type": "code",
   "execution_count": 24,
   "id": "48339fa1",
   "metadata": {},
   "outputs": [],
   "source": [
    "POPULATION_SIZE = 100\n",
    "OFFSPRING_SIZE = 40\n",
    "NUM_GENERATIONS = 1000\n",
    "MUTATION_RATE=0.7"
   ]
  },
  {
   "cell_type": "code",
   "execution_count": 25,
   "id": "2f1d69f3",
   "metadata": {},
   "outputs": [],
   "source": [
    "def problem(N, seed=None):\n",
    "    state = random.getstate()\n",
    "    random.seed(seed)\n",
    "    p = [\n",
    "        list(set(random.randint(0, N - 1) for n in range(random.randint(N // 5, N // 2))))\n",
    "        for n in range(random.randint(N, N * 5))\n",
    "    ]\n",
    "    random.setstate(state)\n",
    "    return p\n"
   ]
  },
  {
   "cell_type": "code",
   "execution_count": 26,
   "id": "bb01e942",
   "metadata": {},
   "outputs": [],
   "source": [
    "__CALLS__ = dict()\n",
    "\n",
    "\n",
    "def CallCounter(fn):\n",
    "    \"\"\"Annotation @CallCounter\"\"\"\n",
    "    assert fn.__name__ not in __CALLS__, f\"Function '{fn.__name__}' already listed in __CALLS__\"\n",
    "    __CALLS__[fn.__name__] = 0\n",
    "    logging.debug(f\"CallCounter: Counting __CALLS__['{fn.__name__}'] ({fn})\")\n",
    "\n",
    "    def call_count(*args, **kwargs):\n",
    "        __CALLS__[fn.__name__] += 1\n",
    "        return fn(*args, **kwargs)\n",
    "\n",
    "    return call_count"
   ]
  },
  {
   "cell_type": "markdown",
   "id": "3b8aee23",
   "metadata": {},
   "source": [
    "# Fitness and Tournament functions\n",
    "The tournament function is used with the default tournament size of 2, select two random individuals and then pick the fittest.\n",
    "The fitness function is the number of covered elements and then, in case of ex aequo, it compares the difference between N and the solution length, that is the distance from the optimal solution (called bloat at the end).\n",
    "\n",
    "The first measure should actually be the condition of feasibility, i've put it as a soft measure instead of an hard check in order to allow also unfeasible solutions that may bring us to a good solution in future generations.\n",
    "In reality putting this measure first gives same results as checking the validity of all individuals at each generations. \n",
    "\n",
    "The check on validity of a solutions is made only at the end, in case the algorithm doesn't find any solution, we could also eliminate the function."
   ]
  },
  {
   "cell_type": "code",
   "execution_count": 27,
   "id": "fb1264ca",
   "metadata": {},
   "outputs": [],
   "source": [
    "def isvalid(solution):\n",
    "    selected = set()\n",
    "    for _ in solution:\n",
    "        selected = selected | set(_)\n",
    "    return selected==set(range(N))\n",
    "\n",
    "@CallCounter\n",
    "def fitness(state):\n",
    "    solution = state[0]\n",
    "    selected = set()\n",
    "    for _ in solution:\n",
    "        selected=selected | set(_)\n",
    "    return len(selected),N-sum(len(_) for _ in solution)\n",
    "\n",
    "def tournament(population,tournament_size=2):\n",
    "    return max(random.choices(population,k=tournament_size), key=lambda i:i[2])"
   ]
  },
  {
   "cell_type": "markdown",
   "id": "3dfb4a1c",
   "metadata": {},
   "source": [
    "# Genetic Operators\n",
    "\n",
    "The genetic operators used are really straightforward, the mutation swap a list in the solution with another left out list, picking from \"available\", tweaking a solution with a different list that may make it valid or reduce the number of repeated numbers.\n",
    "\n",
    "The crossover operator select a cut point for each parent and then create the offspring selcting the first list from parent 1 and the rest from parent 2. This modify also the overall length of the solution, contrary to mutation.  "
   ]
  },
  {
   "cell_type": "code",
   "execution_count": 28,
   "id": "e1459f81",
   "metadata": {},
   "outputs": [],
   "source": [
    "def mutation(state):\n",
    "    solution,available,_=state\n",
    "\n",
    "    removeIdx=random.randint(0,len(solution)-1) if len(solution)>0 else 0\n",
    "    addIdx=random.randint(0,len(available)-1) if len(available)>0 else 0\n",
    "\n",
    "    solution=solution[:removeIdx]+solution[removeIdx+1:]\n",
    "    if len(available)>0:\n",
    "        solution+=(available[addIdx],)\n",
    "    available=available[:addIdx]+available[addIdx+1:]+(solution[removeIdx],)\n",
    "    \n",
    "    f=fitness((solution,available))\n",
    "    return (solution,available,f)\n",
    "\n",
    "def crossover(p1,p2):\n",
    "    solution1, available, _ = p1\n",
    "    solution2, _, _ = p2\n",
    "    cut1=random.randint(0,len(solution1))\n",
    "    cut2 = random.randint(0, len(solution2))\n",
    "\n",
    "    solution = tuple(set((*solution1[: cut1], *solution2[cut2 :])))\n",
    "    newAvailable=tuple((set(solution1)|set(available))-set(solution))\n",
    "    f = fitness((solution, available))\n",
    "    return (solution, newAvailable,f)"
   ]
  },
  {
   "cell_type": "markdown",
   "id": "5c52fcd5",
   "metadata": {},
   "source": [
    "# Genetic Algorithm\n",
    "The genetic algorithm initializes the population selecting random lists in each individual. Then at each generation it generates each offspring using either mutation or crossover. Offspring are added to the previous population. Unfeasible solutions are discarded only at the end."
   ]
  },
  {
   "cell_type": "code",
   "execution_count": 29,
   "id": "e4432bf1",
   "metadata": {},
   "outputs": [],
   "source": [
    "def geneticAlgorithm():\n",
    "\n",
    "    lists = sorted(problem(N, seed=42), key=lambda l: len(l))\n",
    "    #remove duplicates\n",
    "    tuples = tuple(tuple(_) for _ in set(tuple(l) for l in lists))\n",
    "\n",
    "    #generate initial population, random\n",
    "    population = list()\n",
    "    for genome in [tuple(random.choices(tuples,k=random.randint(1,len(tuples)))) for _ in range(POPULATION_SIZE)]:\n",
    "        available=tuple(set(tuples)-set(genome))\n",
    "        f=fitness((tuple(set(genome)), available))\n",
    "        population.append((tuple(set(genome)),available,f))\n",
    "\n",
    "    #population.append((tuples,tuple(),fitness((tuples,tuple())))) #tried to add all tuples as an individual\n",
    "\n",
    "    for g in range(NUM_GENERATIONS):\n",
    "        offspring = list()\n",
    "        for i in range(OFFSPRING_SIZE):\n",
    "            if random.random() < MUTATION_RATE:\n",
    "                p = tournament(population)\n",
    "                o = mutation(p)\n",
    "            else:\n",
    "                p1 = tournament(population)\n",
    "                p2 = tournament(population)\n",
    "                o = crossover(p1, p2)\n",
    "                \n",
    "            offspring.append(o)\n",
    "        population += offspring\n",
    "        # sort and select the fittest mu\n",
    "        population = sorted(population, key=lambda i: i[2], reverse=True)[:POPULATION_SIZE]\n",
    "        if(population[2]==N):\n",
    "            break\n",
    "    population=tuple(_ for _ in population if isvalid(_[0]))\n",
    "    solution=population[0][0]  #takes genome (solution) of the fittest valid individual\n",
    "\n",
    "    print(f\"Solution for N={N}: w={sum(len(_) for _ in solution)} (bloat={(sum(len(_) for _ in solution) - N) / N * 100:.0f}%)\")\n"
   ]
  },
  {
   "cell_type": "code",
   "execution_count": 30,
   "id": "ec0bd73b",
   "metadata": {},
   "outputs": [
    {
     "name": "stdout",
     "output_type": "stream",
     "text": [
      "Solution for N=5: w=5 (bloat=0%)\n",
      "{'fitness': 40100}\n",
      "Solution for N=10: w=10 (bloat=0%)\n",
      "{'fitness': 80200}\n",
      "Solution for N=20: w=24 (bloat=20%)\n",
      "{'fitness': 120300}\n",
      "Solution for N=100: w=168 (bloat=68%)\n",
      "{'fitness': 160400}\n",
      "Solution for N=500: w=1388 (bloat=178%)\n",
      "{'fitness': 200500}\n",
      "Solution for N=1000: w=3330 (bloat=233%)\n",
      "{'fitness': 240600}\n"
     ]
    }
   ],
   "source": [
    "for N in [5, 10, 20, 100,500,1000]:\n",
    "    geneticAlgorithm()\n",
    "    print(__CALLS__)"
   ]
  },
  {
   "cell_type": "code",
   "execution_count": null,
   "id": "9d6f7685",
   "metadata": {},
   "outputs": [],
   "source": []
  }
 ],
 "metadata": {
  "kernelspec": {
   "display_name": "Python 3 (ipykernel)",
   "language": "python",
   "name": "python3"
  },
  "language_info": {
   "codemirror_mode": {
    "name": "ipython",
    "version": 3
   },
   "file_extension": ".py",
   "mimetype": "text/x-python",
   "name": "python",
   "nbconvert_exporter": "python",
   "pygments_lexer": "ipython3",
   "version": "3.9.12"
  }
 },
 "nbformat": 4,
 "nbformat_minor": 5
}
